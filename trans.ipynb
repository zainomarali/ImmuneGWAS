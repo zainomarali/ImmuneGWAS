{
 "cells": [
  {
   "cell_type": "code",
   "execution_count": 1,
   "id": "21c9b44b-9032-488f-a68c-ef0af006f7fc",
   "metadata": {},
   "outputs": [],
   "source": [
    "import os\n",
    "import pandas as pd\n",
    "import seaborn as sns\n",
    "import matplotlib.pyplot as plt\n",
    "import subprocess\n",
    "import logging\n",
    "from ImmuneGWAS.helpers.getpaths import get_paths, get_sumstats_path\n",
    "from ImmuneGWAS.helpers import dbsnp, ldlink\n",
    "import ImmuneGWAS.resources.immune_GWAS as immune_GWAS\n",
    "from ImmuneGWAS import config\n",
    "from ImmuneGWAS.variant import Variant\n",
    "\n",
    "from ImmuneGWAS.resources.eqtlgen import eqtlgen_trans_LDblock_query \n",
    "from ImmuneGWAS.resources.eqtlgen import eqtlgen_cis_LDblock_query \n",
    "from ImmuneGWAS.resources.tokyo_eqtl import tokyo_eqtl_LDblock_query\n",
    "from ImmuneGWAS.resources.eqtl_cat import *\n",
    "from IPython.display import display_html \n",
    "from IPython.display import display,HTML\n",
    "\n",
    "from scipy.cluster import hierarchy\n",
    "\n",
    "from ImmuneGWAS.helpers import get_gene_symbol  # convert ensembl to gene"
   ]
  },
  {
   "cell_type": "code",
   "execution_count": null,
   "id": "7e42f553-ec06-4d45-89ee-4132a647f95d",
   "metadata": {},
   "outputs": [],
   "source": []
  },
  {
   "cell_type": "markdown",
   "id": "8f00a739-068a-4767-a88f-721b38c7cbea",
   "metadata": {},
   "source": [
    "Designing the lookup:\n",
    "\n",
    "1) Variant object calls trans_df lookup\n",
    "2) Harmonize according to EA/OA, raise exceptions for multi-allelic SNPs\n",
    "3) Split trans_df into up and down\n",
    "4) Return row-scaled heatmap df where cell ordering is hard-coded and rows are resorted for clustering\n",
    "5) Plotting function for heatmap df\n",
    "6) Get flow phenotypes\n",
    "7) Get LDTrait phenotypes\n",
    "8) Summarize phenotpyes into tables with betas (remove duplicate phenotypes etc)\n",
    "9) Get a single summary cis-eQTL table\n",
    "10) Return summary report - 2 heatmaps for up and down, cis-eQTLs, phenotypes summarized"
   ]
  },
  {
   "cell_type": "code",
   "execution_count": 2,
   "id": "d355c9bd-7599-46f1-9f16-dff7f9ab3a29",
   "metadata": {},
   "outputs": [],
   "source": [
    "rsid = \"rs1354034\"\n",
    "chrom = 3\n",
    "pos = 56815721\n",
    "EA = 'T'\n",
    "OA = 'C'\n",
    "\n",
    "x = Variant(rsid, chrom, pos, EA, OA)"
   ]
  },
  {
   "cell_type": "code",
   "execution_count": 69,
   "id": "d1f08a26-1316-4e3f-b48b-95319325b017",
   "metadata": {},
   "outputs": [
    {
     "data": {
      "text/plain": [
       "[]"
      ]
     },
     "execution_count": 69,
     "metadata": {},
     "output_type": "execute_result"
    }
   ],
   "source": [
    "x.get_gwas_phenotypes()"
   ]
  },
  {
   "cell_type": "code",
   "execution_count": 2,
   "id": "9cda26a3-fab4-42c9-91d1-84aacebf4c90",
   "metadata": {},
   "outputs": [],
   "source": [
    "def multi_column_df_display(list_dfs, cols=3):\n",
    "    html_table = \"<table style='width:100%; border:0px'>{content}</table>\"\n",
    "    html_row = \"<tr style='border:0px'>{content}</tr>\"\n",
    "    html_cell = \"<td style='width:{width}%;vertical-align:top;border:0px'>{{content}}</td>\"\n",
    "    html_cell = html_cell.format(width=100/cols)\n",
    "\n",
    "    cells = [ html_cell.format(content=df.to_html()) for df in list_dfs ]\n",
    "    cells += (cols - (len(list_dfs)%cols)) * [html_cell.format(content=\"\")] # pad\n",
    "    rows = [ html_row.format(content=\"\".join(cells[i:i+cols])) for i in range(0,len(cells),cols)]\n",
    "    display(HTML(html_table.format(content=\"\".join(rows))))\n",
    "\n",
    "def summary_trans(var: Variant):\n",
    "    \n",
    "    # retrieve trans-eQTLs\n",
    "    trans = eqtlgen_trans_LDblock_query(var)\n",
    "    trans.Zscore = trans.Zscore.astype(float)\n",
    "    \n",
    "    \n",
    "    # check EA for sign of beta\n",
    "    \n",
    "    if set(trans.AssessedAllele == x.EA) == {True}:\n",
    "        trans.Zscore = trans.Zscore * -1\n",
    "    \n",
    "    # split into up and down genes\n",
    "    up = trans[trans.Zscore>0]\n",
    "    down = trans[trans.Zscore<0]\n",
    "    up = up.Gene\n",
    "    down = down.Gene\n",
    "    \n",
    "    # dictionary to map ensembl to gene name\n",
    "    mapper = dict(zip(trans.Gene, trans.GeneSymbol))\n",
    "    \n",
    "    #get ge matrix from ImmunexUT\n",
    "    paths = get_paths(root='/media/')\n",
    "    ge = pd.read_csv(paths['ge_tokyo'], sep='\\t')\n",
    "    ge = ge.set_index(\"Gene_id\")\n",
    "    ge = ge.drop(\"Gene_name\", axis=1)\n",
    "    ge = ge.drop_duplicates()\n",
    "    \n",
    "    # get indices for trans-eQTL matrix\n",
    "    # note any missing genes will be dropped\n",
    "    \n",
    "    u = [i for i in up if i in ge.index]\n",
    "    u = set(u)\n",
    "    d = [i for i in down if i in ge.index]\n",
    "    d = set(d)\n",
    "    \n",
    "    # filter gene expression matrix into up and down genes\n",
    "    u = ge.loc[u]\n",
    "    d = ge.loc[d]\n",
    "    \n",
    "    # rename ensembl IDs to gene names\n",
    "    u.index = u.index.map(mapper)\n",
    "    d.index = d.index.map(mapper)\n",
    "\n",
    "    # hard-code order of cell types according to gene expression similarity on whole GE matrix\n",
    "    \n",
    "    ordered_cols = ['Plasmablast', 'LDG', 'Neu', 'pDC', 'mDC', 'CL_Mono', 'Int_Mono',\n",
    "           'CD16p_Mono', 'NC_Mono', 'Naive_B', 'USM_B', 'DN_B', 'SM_B', 'NK',\n",
    "           'Mem_CD8', 'EM_CD8', 'TEMRA_CD8', 'Naive_CD8', 'Fr_I_nTreg',\n",
    "           'Naive_CD4', 'Fr_III_T', 'Fr_II_eTreg', 'CM_CD8', 'Th2', 'Tfh', 'Th17',\n",
    "           'Mem_CD4', 'Th1']\n",
    "    \n",
    "    # normalize up and down genes\n",
    "\n",
    "    def standard_scale(x):\n",
    "        return (x-x.min())/x.max()\n",
    "\n",
    "    u = u.apply(standard_scale, axis=1)\n",
    "    d = d.apply(standard_scale, axis=1)\n",
    "\n",
    "    # reorder columns\n",
    "    \n",
    "    u = u.loc[:, ordered_cols]\n",
    "    d = d.loc[:, ordered_cols]\n",
    "    \n",
    "    # reoder rows by dendrogram\n",
    "    if len(u)>1:\n",
    "        Z = hierarchy.linkage(u, optimal_ordering=True, method='ward')\n",
    "        dendro = hierarchy.dendrogram(Z, no_plot=True)\n",
    "    \n",
    "        u = u.iloc[dendro['leaves'],:]\n",
    "    \n",
    "    if len(d)>1:\n",
    "        Z = hierarchy.linkage(d, optimal_ordering=True, method='ward')\n",
    "        dendro = hierarchy.dendrogram(Z, no_plot=True)\n",
    "        d = d.iloc[dendro['leaves'],:]\n",
    "    # collect all my cis-eqtls\n",
    "\n",
    "    tokyo_eqtl_LDblock_query(x)\n",
    "    eqtlgen_cis_LDblock_query (x)\n",
    "    eqtl_catalogue_LDblock_query_type_restricted_multitype(x)\n",
    "\n",
    "    # now all of these are in the Results object\n",
    "\n",
    "    gwas = ldlink.ldtrait(x)\n",
    "\n",
    "    \n",
    "    tokyo = x.results.tokyo_eqtl()[x.results.tokyo_eqtl()['Variant_ID']==x.rsid]\n",
    "    tokyo = tokyo[['Gene_name','Variant_ID', 'Backward_slope', 'Backward_P', 'cell_type']]\n",
    "    tokyo = tokyo.sort_values(by='Gene_name')\n",
    "\n",
    "    cat = x.results.eqtl_cat()\n",
    "    cat = cat[['gene_symbol', 'variant', 'z', 'study', 'cell_type']]\n",
    "    \n",
    "    \n",
    "    gwas_traits = set(x.results.ldtrait()['GWAS Trait'].tolist())\n",
    "    \n",
    "    \n",
    "    cisgen = x.results.eqtlgen_cis_df\n",
    "    cisgen = cisgen[['SNP', 'GeneSymbol', 'Zscore']]\n",
    "    \n",
    "    \n",
    "    # get the cis-eqtl genes to plot a heatmap of the cis-eQTL genes\n",
    "    \n",
    "    a = x.results.eqtlgen_cis_df['Gene']\n",
    "\n",
    "    b = x.results.tokyo_eqtl_df['Gene_id'].apply(lambda x:x.split(\".\")[0])\n",
    "\n",
    "    c = x.results.eqtl_cat_df['molecular_trait_id']\n",
    "    \n",
    "    cis_genes = list(set(pd.concat([a,b,c]).tolist()))\n",
    "    cis_genes = [i for i in cis_genes if i in ge.index]\n",
    "    cis_genes = ge.loc[cis_genes]\n",
    "    cis_genes = cis_genes.apply(standard_scale, axis=1)\n",
    "    cis_genes = cis_genes.loc[:, ordered_cols]\n",
    "    cis_genes.index = cis_genes.index.map(get_gene_symbol)\n",
    "    \n",
    "    list_dfs = [tokyo, cat, cisgen]\n",
    "\n",
    "    display(tokyo)\n",
    "    display(cat)\n",
    "    display(cisgen)\n",
    "    print(\"GWAS Catalog\\n\")\n",
    "    display(gwas_traits)\n",
    "    print(\"Flow phenos\\n\")\n",
    "    display(x.get_gwas_phenotypes())\n",
    "    \n",
    "    sns.heatmap(cis_genes, cbar=False, cmap='inferno', square=True)\n",
    "    \n",
    "    h = max([len(u), len(d)])\n",
    "    h = int(h/10)\n",
    "    fig, ax= plt.subplots(1,2, figsize=(20,h))\n",
    "\n",
    "    sns.heatmap(u, ax=ax[0], cbar=False, cmap='inferno')\n",
    "    sns.heatmap(d, ax=ax[1], cbar=False, cmap='inferno')\n",
    "    \n",
    "    ax[0].set_title(\"UP Trans genes\")\n",
    "    ax[1].set_title(\"DOWN Trans genes\")\n",
    "\n",
    "    \n",
    "    "
   ]
  },
  {
   "cell_type": "code",
   "execution_count": 3,
   "id": "6dd3cfd0-fb09-4c5f-88c0-fc0cd043e09d",
   "metadata": {},
   "outputs": [],
   "source": [
    "rsid = 'rs10004195'\n",
    "EA = 'T'\n",
    "OA = 'A'\n",
    "pos = 38783103\n",
    "chrom = 4\n",
    "\n",
    "x = Variant(rsid, chrom, pos, EA, OA)"
   ]
  },
  {
   "cell_type": "code",
   "execution_count": null,
   "id": "d04757ac-1ceb-4295-9752-4e10c09e78a8",
   "metadata": {},
   "outputs": [],
   "source": []
  },
  {
   "cell_type": "code",
   "execution_count": 9,
   "id": "47e2d756-95c2-497d-8b50-714404e7085f",
   "metadata": {},
   "outputs": [
    {
     "ename": "TypeError",
     "evalue": "cannot convert the series to <class 'float'>",
     "output_type": "error",
     "traceback": [
      "\u001b[0;31m---------------------------------------------------------------------------\u001b[0m",
      "\u001b[0;31mTypeError\u001b[0m                                 Traceback (most recent call last)",
      "\u001b[0;32m<ipython-input-9-b70811e1c08e>\u001b[0m in \u001b[0;36m<module>\u001b[0;34m\u001b[0m\n\u001b[0;32m----> 1\u001b[0;31m \u001b[0meqtl_catalogue_LDblock_query_type_restricted_multitype\u001b[0m\u001b[0;34m(\u001b[0m\u001b[0mx\u001b[0m\u001b[0;34m)\u001b[0m\u001b[0;34m\u001b[0m\u001b[0;34m\u001b[0m\u001b[0m\n\u001b[0m",
      "\u001b[0;32m~/Projects/ImmuneGWAS/ImmuneGWAS/resources/eqtl_cat.py\u001b[0m in \u001b[0;36meqtl_catalogue_LDblock_query_type_restricted_multitype\u001b[0;34m(variant_object, input_study_list)\u001b[0m\n\u001b[1;32m    189\u001b[0m             raise ValueError(\"Invalid study type specified. study_type_key must be one of 'ge', 'exon', 'tx', \"\n\u001b[1;32m    190\u001b[0m                              \"'txrev' or 'microarray'\")\n\u001b[0;32m--> 191\u001b[0;31m         \u001b[0mdf_list\u001b[0m\u001b[0;34m.\u001b[0m\u001b[0mappend\u001b[0m\u001b[0;34m(\u001b[0m\u001b[0meqtl_catalogue_LDblock_query_type_restricted\u001b[0m\u001b[0;34m(\u001b[0m\u001b[0mvariant_object\u001b[0m\u001b[0;34m,\u001b[0m \u001b[0mstudy_type_key\u001b[0m\u001b[0;34m)\u001b[0m\u001b[0;34m)\u001b[0m\u001b[0;34m\u001b[0m\u001b[0;34m\u001b[0m\u001b[0m\n\u001b[0m\u001b[1;32m    192\u001b[0m     \u001b[0mlogging\u001b[0m\u001b[0;34m.\u001b[0m\u001b[0minfo\u001b[0m\u001b[0;34m(\u001b[0m\u001b[0;34m\"Query to eQTL catalogue finished.\"\u001b[0m\u001b[0;34m)\u001b[0m\u001b[0;34m\u001b[0m\u001b[0;34m\u001b[0m\u001b[0m\n\u001b[1;32m    193\u001b[0m     \u001b[0mvariant_object\u001b[0m\u001b[0;34m.\u001b[0m\u001b[0mresults\u001b[0m\u001b[0;34m.\u001b[0m\u001b[0mset_eqtl_cat_df\u001b[0m\u001b[0;34m(\u001b[0m\u001b[0mpd\u001b[0m\u001b[0;34m.\u001b[0m\u001b[0mconcat\u001b[0m\u001b[0;34m(\u001b[0m\u001b[0mdf_list\u001b[0m\u001b[0;34m)\u001b[0m\u001b[0;34m)\u001b[0m\u001b[0;34m\u001b[0m\u001b[0;34m\u001b[0m\u001b[0m\n",
      "\u001b[0;32m~/Projects/ImmuneGWAS/ImmuneGWAS/resources/eqtl_cat.py\u001b[0m in \u001b[0;36meqtl_catalogue_LDblock_query_type_restricted\u001b[0;34m(variant_object, study_type_key)\u001b[0m\n\u001b[1;32m    155\u001b[0m             \u001b[0;31m# DataFrame with all the matches from eQTL cat studies for the variant at the position (list[0], list[1])\u001b[0m\u001b[0;34m\u001b[0m\u001b[0;34m\u001b[0m\u001b[0;34m\u001b[0m\u001b[0m\n\u001b[1;32m    156\u001b[0m             \u001b[0;32mtry\u001b[0m\u001b[0;34m:\u001b[0m\u001b[0;34m\u001b[0m\u001b[0;34m\u001b[0m\u001b[0m\n\u001b[0;32m--> 157\u001b[0;31m                 variant_df = single_eqtl_catalogue_query_type_restricted(variant_pos_list[0], variant_pos_list[1],\n\u001b[0m\u001b[1;32m    158\u001b[0m                                                                          study_type_key, EA=variant_pos_list[2])\n\u001b[1;32m    159\u001b[0m             \u001b[0;32mexcept\u001b[0m \u001b[0mValueError\u001b[0m \u001b[0;32mas\u001b[0m \u001b[0merr_msg\u001b[0m\u001b[0;34m:\u001b[0m  \u001b[0;31m# Avoid breaking if alleles don't match, but report it and don't add to list\u001b[0m\u001b[0;34m\u001b[0m\u001b[0;34m\u001b[0m\u001b[0m\n",
      "\u001b[0;32m~/Projects/ImmuneGWAS/ImmuneGWAS/resources/eqtl_cat.py\u001b[0m in \u001b[0;36msingle_eqtl_catalogue_query_type_restricted\u001b[0;34m(chromosome, position, study_type_key, EA)\u001b[0m\n\u001b[1;32m    109\u001b[0m                 logging.info(f\"LDblock EA {EA} corresponds to eQTLcat OA {concatenated_df['ref'].iloc[0]}. \"\n\u001b[1;32m    110\u001b[0m                              f\"Sign of the z value flipped.\")\n\u001b[0;32m--> 111\u001b[0;31m                 \u001b[0mconcatenated_df\u001b[0m\u001b[0;34m.\u001b[0m\u001b[0mz\u001b[0m \u001b[0;34m=\u001b[0m \u001b[0mfloat\u001b[0m\u001b[0;34m(\u001b[0m\u001b[0mconcatenated_df\u001b[0m\u001b[0;34m.\u001b[0m\u001b[0mz\u001b[0m\u001b[0;34m)\u001b[0m \u001b[0;34m*\u001b[0m \u001b[0;34m-\u001b[0m\u001b[0;36m1\u001b[0m\u001b[0;34m\u001b[0m\u001b[0;34m\u001b[0m\u001b[0m\n\u001b[0m\u001b[1;32m    112\u001b[0m             \u001b[0;32melif\u001b[0m \u001b[0mconcatenated_df\u001b[0m\u001b[0;34m[\u001b[0m\u001b[0;34m\"alt\"\u001b[0m\u001b[0;34m]\u001b[0m\u001b[0;34m.\u001b[0m\u001b[0miloc\u001b[0m\u001b[0;34m[\u001b[0m\u001b[0;36m0\u001b[0m\u001b[0;34m]\u001b[0m\u001b[0;34m[\u001b[0m\u001b[0;36m0\u001b[0m\u001b[0;34m]\u001b[0m \u001b[0;34m==\u001b[0m \u001b[0mconcatenated_df\u001b[0m\u001b[0;34m[\u001b[0m\u001b[0;34m\"ref\"\u001b[0m\u001b[0;34m]\u001b[0m\u001b[0;34m.\u001b[0m\u001b[0miloc\u001b[0m\u001b[0;34m[\u001b[0m\u001b[0;36m0\u001b[0m\u001b[0;34m]\u001b[0m\u001b[0;34m[\u001b[0m\u001b[0;36m0\u001b[0m\u001b[0;34m]\u001b[0m\u001b[0;34m:\u001b[0m  \u001b[0;31m# Deletion/addition case\u001b[0m\u001b[0;34m\u001b[0m\u001b[0;34m\u001b[0m\u001b[0m\n\u001b[1;32m    113\u001b[0m                 \u001b[0;31m# LDlink represents -/T while eQTL-cat does G/GT\u001b[0m\u001b[0;34m\u001b[0m\u001b[0;34m\u001b[0m\u001b[0;34m\u001b[0m\u001b[0m\n",
      "\u001b[0;32m~/anaconda3/lib/python3.8/site-packages/pandas/core/series.py\u001b[0m in \u001b[0;36mwrapper\u001b[0;34m(self)\u001b[0m\n\u001b[1;32m    139\u001b[0m         \u001b[0;32mif\u001b[0m \u001b[0mlen\u001b[0m\u001b[0;34m(\u001b[0m\u001b[0mself\u001b[0m\u001b[0;34m)\u001b[0m \u001b[0;34m==\u001b[0m \u001b[0;36m1\u001b[0m\u001b[0;34m:\u001b[0m\u001b[0;34m\u001b[0m\u001b[0;34m\u001b[0m\u001b[0m\n\u001b[1;32m    140\u001b[0m             \u001b[0;32mreturn\u001b[0m \u001b[0mconverter\u001b[0m\u001b[0;34m(\u001b[0m\u001b[0mself\u001b[0m\u001b[0;34m.\u001b[0m\u001b[0miloc\u001b[0m\u001b[0;34m[\u001b[0m\u001b[0;36m0\u001b[0m\u001b[0;34m]\u001b[0m\u001b[0;34m)\u001b[0m\u001b[0;34m\u001b[0m\u001b[0;34m\u001b[0m\u001b[0m\n\u001b[0;32m--> 141\u001b[0;31m         \u001b[0;32mraise\u001b[0m \u001b[0mTypeError\u001b[0m\u001b[0;34m(\u001b[0m\u001b[0;34mf\"cannot convert the series to {converter}\"\u001b[0m\u001b[0;34m)\u001b[0m\u001b[0;34m\u001b[0m\u001b[0;34m\u001b[0m\u001b[0m\n\u001b[0m\u001b[1;32m    142\u001b[0m \u001b[0;34m\u001b[0m\u001b[0m\n\u001b[1;32m    143\u001b[0m     \u001b[0mwrapper\u001b[0m\u001b[0;34m.\u001b[0m\u001b[0m__name__\u001b[0m \u001b[0;34m=\u001b[0m \u001b[0;34mf\"__{converter.__name__}__\"\u001b[0m\u001b[0;34m\u001b[0m\u001b[0;34m\u001b[0m\u001b[0m\n",
      "\u001b[0;31mTypeError\u001b[0m: cannot convert the series to <class 'float'>"
     ]
    }
   ],
   "source": [
    "eqtl_catalogue_LDblock_query_type_restricted_multitype(x)"
   ]
  },
  {
   "cell_type": "code",
   "execution_count": null,
   "id": "31a96792-43c4-4740-ae59-6e3b82f37250",
   "metadata": {},
   "outputs": [],
   "source": []
  },
  {
   "cell_type": "code",
   "execution_count": null,
   "id": "57c62b84-58c9-4e1c-8112-a99d67a880e2",
   "metadata": {},
   "outputs": [],
   "source": []
  },
  {
   "cell_type": "code",
   "execution_count": 8,
   "id": "ebf1fb4b-7c0c-43d9-88a0-99c014c67821",
   "metadata": {},
   "outputs": [
    {
     "ename": "TypeError",
     "evalue": "cannot convert the series to <class 'float'>",
     "output_type": "error",
     "traceback": [
      "\u001b[0;31m---------------------------------------------------------------------------\u001b[0m",
      "\u001b[0;31mTypeError\u001b[0m                                 Traceback (most recent call last)",
      "\u001b[0;32m<ipython-input-8-b70811e1c08e>\u001b[0m in \u001b[0;36m<module>\u001b[0;34m\u001b[0m\n\u001b[0;32m----> 1\u001b[0;31m \u001b[0meqtl_catalogue_LDblock_query_type_restricted_multitype\u001b[0m\u001b[0;34m(\u001b[0m\u001b[0mx\u001b[0m\u001b[0;34m)\u001b[0m\u001b[0;34m\u001b[0m\u001b[0;34m\u001b[0m\u001b[0m\n\u001b[0m",
      "\u001b[0;32m~/Projects/ImmuneGWAS/ImmuneGWAS/resources/eqtl_cat.py\u001b[0m in \u001b[0;36meqtl_catalogue_LDblock_query_type_restricted_multitype\u001b[0;34m(variant_object, input_study_list)\u001b[0m\n\u001b[1;32m    189\u001b[0m             raise ValueError(\"Invalid study type specified. study_type_key must be one of 'ge', 'exon', 'tx', \"\n\u001b[1;32m    190\u001b[0m                              \"'txrev' or 'microarray'\")\n\u001b[0;32m--> 191\u001b[0;31m         \u001b[0mdf_list\u001b[0m\u001b[0;34m.\u001b[0m\u001b[0mappend\u001b[0m\u001b[0;34m(\u001b[0m\u001b[0meqtl_catalogue_LDblock_query_type_restricted\u001b[0m\u001b[0;34m(\u001b[0m\u001b[0mvariant_object\u001b[0m\u001b[0;34m,\u001b[0m \u001b[0mstudy_type_key\u001b[0m\u001b[0;34m)\u001b[0m\u001b[0;34m)\u001b[0m\u001b[0;34m\u001b[0m\u001b[0;34m\u001b[0m\u001b[0m\n\u001b[0m\u001b[1;32m    192\u001b[0m     \u001b[0mlogging\u001b[0m\u001b[0;34m.\u001b[0m\u001b[0minfo\u001b[0m\u001b[0;34m(\u001b[0m\u001b[0;34m\"Query to eQTL catalogue finished.\"\u001b[0m\u001b[0;34m)\u001b[0m\u001b[0;34m\u001b[0m\u001b[0;34m\u001b[0m\u001b[0m\n\u001b[1;32m    193\u001b[0m     \u001b[0mvariant_object\u001b[0m\u001b[0;34m.\u001b[0m\u001b[0mresults\u001b[0m\u001b[0;34m.\u001b[0m\u001b[0mset_eqtl_cat_df\u001b[0m\u001b[0;34m(\u001b[0m\u001b[0mpd\u001b[0m\u001b[0;34m.\u001b[0m\u001b[0mconcat\u001b[0m\u001b[0;34m(\u001b[0m\u001b[0mdf_list\u001b[0m\u001b[0;34m)\u001b[0m\u001b[0;34m)\u001b[0m\u001b[0;34m\u001b[0m\u001b[0;34m\u001b[0m\u001b[0m\n",
      "\u001b[0;32m~/Projects/ImmuneGWAS/ImmuneGWAS/resources/eqtl_cat.py\u001b[0m in \u001b[0;36meqtl_catalogue_LDblock_query_type_restricted\u001b[0;34m(variant_object, study_type_key)\u001b[0m\n\u001b[1;32m    155\u001b[0m             \u001b[0;31m# DataFrame with all the matches from eQTL cat studies for the variant at the position (list[0], list[1])\u001b[0m\u001b[0;34m\u001b[0m\u001b[0;34m\u001b[0m\u001b[0;34m\u001b[0m\u001b[0m\n\u001b[1;32m    156\u001b[0m             \u001b[0;32mtry\u001b[0m\u001b[0;34m:\u001b[0m\u001b[0;34m\u001b[0m\u001b[0;34m\u001b[0m\u001b[0m\n\u001b[0;32m--> 157\u001b[0;31m                 variant_df = single_eqtl_catalogue_query_type_restricted(variant_pos_list[0], variant_pos_list[1],\n\u001b[0m\u001b[1;32m    158\u001b[0m                                                                          study_type_key, EA=variant_pos_list[2])\n\u001b[1;32m    159\u001b[0m             \u001b[0;32mexcept\u001b[0m \u001b[0mValueError\u001b[0m \u001b[0;32mas\u001b[0m \u001b[0merr_msg\u001b[0m\u001b[0;34m:\u001b[0m  \u001b[0;31m# Avoid breaking if alleles don't match, but report it and don't add to list\u001b[0m\u001b[0;34m\u001b[0m\u001b[0;34m\u001b[0m\u001b[0m\n",
      "\u001b[0;32m~/Projects/ImmuneGWAS/ImmuneGWAS/resources/eqtl_cat.py\u001b[0m in \u001b[0;36msingle_eqtl_catalogue_query_type_restricted\u001b[0;34m(chromosome, position, study_type_key, EA)\u001b[0m\n\u001b[1;32m    109\u001b[0m                 logging.info(f\"LDblock EA {EA} corresponds to eQTLcat OA {concatenated_df['ref'].iloc[0]}. \"\n\u001b[1;32m    110\u001b[0m                              f\"Sign of the z value flipped.\")\n\u001b[0;32m--> 111\u001b[0;31m                 \u001b[0mconcatenated_df\u001b[0m\u001b[0;34m.\u001b[0m\u001b[0mz\u001b[0m \u001b[0;34m=\u001b[0m \u001b[0mfloat\u001b[0m\u001b[0;34m(\u001b[0m\u001b[0mconcatenated_df\u001b[0m\u001b[0;34m.\u001b[0m\u001b[0mz\u001b[0m\u001b[0;34m)\u001b[0m \u001b[0;34m*\u001b[0m \u001b[0;34m-\u001b[0m\u001b[0;36m1\u001b[0m\u001b[0;34m\u001b[0m\u001b[0;34m\u001b[0m\u001b[0m\n\u001b[0m\u001b[1;32m    112\u001b[0m             \u001b[0;32melif\u001b[0m \u001b[0mconcatenated_df\u001b[0m\u001b[0;34m[\u001b[0m\u001b[0;34m\"alt\"\u001b[0m\u001b[0;34m]\u001b[0m\u001b[0;34m.\u001b[0m\u001b[0miloc\u001b[0m\u001b[0;34m[\u001b[0m\u001b[0;36m0\u001b[0m\u001b[0;34m]\u001b[0m\u001b[0;34m[\u001b[0m\u001b[0;36m0\u001b[0m\u001b[0;34m]\u001b[0m \u001b[0;34m==\u001b[0m \u001b[0mconcatenated_df\u001b[0m\u001b[0;34m[\u001b[0m\u001b[0;34m\"ref\"\u001b[0m\u001b[0;34m]\u001b[0m\u001b[0;34m.\u001b[0m\u001b[0miloc\u001b[0m\u001b[0;34m[\u001b[0m\u001b[0;36m0\u001b[0m\u001b[0;34m]\u001b[0m\u001b[0;34m[\u001b[0m\u001b[0;36m0\u001b[0m\u001b[0;34m]\u001b[0m\u001b[0;34m:\u001b[0m  \u001b[0;31m# Deletion/addition case\u001b[0m\u001b[0;34m\u001b[0m\u001b[0;34m\u001b[0m\u001b[0m\n\u001b[1;32m    113\u001b[0m                 \u001b[0;31m# LDlink represents -/T while eQTL-cat does G/GT\u001b[0m\u001b[0;34m\u001b[0m\u001b[0;34m\u001b[0m\u001b[0;34m\u001b[0m\u001b[0m\n",
      "\u001b[0;32m~/anaconda3/lib/python3.8/site-packages/pandas/core/series.py\u001b[0m in \u001b[0;36mwrapper\u001b[0;34m(self)\u001b[0m\n\u001b[1;32m    139\u001b[0m         \u001b[0;32mif\u001b[0m \u001b[0mlen\u001b[0m\u001b[0;34m(\u001b[0m\u001b[0mself\u001b[0m\u001b[0;34m)\u001b[0m \u001b[0;34m==\u001b[0m \u001b[0;36m1\u001b[0m\u001b[0;34m:\u001b[0m\u001b[0;34m\u001b[0m\u001b[0;34m\u001b[0m\u001b[0m\n\u001b[1;32m    140\u001b[0m             \u001b[0;32mreturn\u001b[0m \u001b[0mconverter\u001b[0m\u001b[0;34m(\u001b[0m\u001b[0mself\u001b[0m\u001b[0;34m.\u001b[0m\u001b[0miloc\u001b[0m\u001b[0;34m[\u001b[0m\u001b[0;36m0\u001b[0m\u001b[0;34m]\u001b[0m\u001b[0;34m)\u001b[0m\u001b[0;34m\u001b[0m\u001b[0;34m\u001b[0m\u001b[0m\n\u001b[0;32m--> 141\u001b[0;31m         \u001b[0;32mraise\u001b[0m \u001b[0mTypeError\u001b[0m\u001b[0;34m(\u001b[0m\u001b[0;34mf\"cannot convert the series to {converter}\"\u001b[0m\u001b[0;34m)\u001b[0m\u001b[0;34m\u001b[0m\u001b[0;34m\u001b[0m\u001b[0m\n\u001b[0m\u001b[1;32m    142\u001b[0m \u001b[0;34m\u001b[0m\u001b[0m\n\u001b[1;32m    143\u001b[0m     \u001b[0mwrapper\u001b[0m\u001b[0;34m.\u001b[0m\u001b[0m__name__\u001b[0m \u001b[0;34m=\u001b[0m \u001b[0;34mf\"__{converter.__name__}__\"\u001b[0m\u001b[0;34m\u001b[0m\u001b[0;34m\u001b[0m\u001b[0m\n",
      "\u001b[0;31mTypeError\u001b[0m: cannot convert the series to <class 'float'>"
     ]
    }
   ],
   "source": []
  },
  {
   "cell_type": "code",
   "execution_count": null,
   "id": "d843738e-87fd-4f4e-b905-e55a60720a45",
   "metadata": {},
   "outputs": [],
   "source": []
  },
  {
   "cell_type": "code",
   "execution_count": null,
   "id": "fbef52b8-2eaf-406f-a537-1be1b528fe8f",
   "metadata": {},
   "outputs": [],
   "source": []
  },
  {
   "cell_type": "code",
   "execution_count": null,
   "id": "eb710053-382b-4591-ab8c-31db9b504c64",
   "metadata": {},
   "outputs": [],
   "source": []
  },
  {
   "cell_type": "code",
   "execution_count": null,
   "id": "d2ad4dc5-cec8-4a8e-9cd7-e821b2aa9f3d",
   "metadata": {},
   "outputs": [],
   "source": []
  },
  {
   "cell_type": "code",
   "execution_count": null,
   "id": "387a00a3-1612-4bed-a3da-22af37c5b96c",
   "metadata": {},
   "outputs": [],
   "source": []
  },
  {
   "cell_type": "code",
   "execution_count": null,
   "id": "768a9ec5-cbcf-4c6b-8bc3-b38011b6a35f",
   "metadata": {},
   "outputs": [],
   "source": []
  }
 ],
 "metadata": {
  "kernelspec": {
   "display_name": "Python 3",
   "language": "python",
   "name": "python3"
  },
  "language_info": {
   "codemirror_mode": {
    "name": "ipython",
    "version": 3
   },
   "file_extension": ".py",
   "mimetype": "text/x-python",
   "name": "python",
   "nbconvert_exporter": "python",
   "pygments_lexer": "ipython3",
   "version": "3.8.8"
  }
 },
 "nbformat": 4,
 "nbformat_minor": 5
}
