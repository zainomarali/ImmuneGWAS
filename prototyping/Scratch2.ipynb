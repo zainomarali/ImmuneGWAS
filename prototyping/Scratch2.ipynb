{
 "cells": [
  {
   "cell_type": "code",
   "execution_count": 12,
   "id": "1ce4c34f-ce5b-4219-a511-8a2da5a4a328",
   "metadata": {},
   "outputs": [],
   "source": [
    "## final versions of functions that are meant to take in a Variant object and extract rows from the different eQTL resources\n",
    "\n",
    "import os \n",
    "import pandas as pd\n",
    "\n",
    "from helpers.getpaths import *\n",
    "from helpers.ldlink import *\n",
    "\n",
    "class Variant():\n",
    "    def __init__(self, rsid:str, chrom:int, pos:int, EA:str, OA:str):\n",
    "        self.rsid = rsid \n",
    "        self.chrom = chrom\n",
    "        self.pos = pos\n",
    "        self.EA = EA\n",
    "        self.OA = OA\n",
    "        self.LDblock = None\n",
    "        self.set_LDblock()\n",
    "    \n",
    "    def get_rsid(self):\n",
    "        return self.rsid\n",
    "    \n",
    "    def get_fullpos(self):\n",
    "        return self.chrom, self.pos\n",
    "    \n",
    "    def get_pos(self):\n",
    "        return self.pos\n",
    "    \n",
    "    def get_chrom(self):\n",
    "        return self.chrom\n",
    "    \n",
    "    def get_EA(self):\n",
    "        return self.EA\n",
    "    \n",
    "    def get_OA(self):\n",
    "        return self.OA\n",
    "    \n",
    "    def get_LDblock(self):\n",
    "        return self.LDblock\n",
    "    \n",
    "    def map_alleles(self, x, EA, OA):\n",
    "        d = {}\n",
    "        a1 = x.split(\",\")[0].split(\"=\")\n",
    "        a2 = x.split(\",\")[1].split(\"=\")\n",
    "        if a1[0]==EA:\n",
    "            d[EA]=a1[1]\n",
    "            d[OA]=a2[1]\n",
    "        elif a1[0]==OA:\n",
    "            d[OA] = a1[1]\n",
    "            d[EA] = a2[1]\n",
    "\n",
    "        return d\n",
    "    \n",
    "    def set_LDblock(self):\n",
    "        df = ldproxy(self.rsid)\n",
    "        df['EA'] = df.Correlated_Alleles.apply(lambda x:self.map_alleles(x,EA,OA)[EA])\n",
    "        df['OA'] = df.Correlated_Alleles.apply(lambda x:self.map_alleles(x,EA,OA)[OA])\n",
    "        df['chrom'] = df.Coord.apply(lambda x:int(x.split(\":\")[0][-1]))\n",
    "        df['hg38_pos'] = df.Coord.apply(lambda x:int(x.split(\":\")[1]))\n",
    "        df = df[['RS_Number', 'chrom', 'hg38_pos', 'EA','OA', 'R2', 'MAF']]\n",
    "        self.LDblock = df"
   ]
  },
  {
   "cell_type": "code",
   "execution_count": 13,
   "id": "345ff3a4-e428-42aa-a04b-e7237834d1ce",
   "metadata": {},
   "outputs": [],
   "source": [
    "# little test case \n",
    "\n",
    "rsid = \"rs876037\"\n",
    "chrom = 7\n",
    "pos = 50308692\n",
    "EA = \"A\"\n",
    "OA = \"T\"\n",
    "\n",
    "snp = Variant(rsid, chrom, pos, EA, OA)"
   ]
  },
  {
   "cell_type": "code",
   "execution_count": 48,
   "id": "de8064d1-d7db-44a2-92ff-95ebbd111186",
   "metadata": {},
   "outputs": [],
   "source": [
    "def get_tokyocis(variant, paths=paths):\n",
    "    files = os.listdir(paths['eqtl_tokyo'])\n",
    "    files = [paths['eqtl_tokyo'] + i for i in files]\n",
    "    \n",
    "    df_list = []\n",
    "    \n",
    "    for file in files:\n",
    "        cell = file.split(\"/\")[-1].split(\"_cond\")[0]\n",
    "        x = pd.read_csv(file, sep='\\t')\n",
    "        x = x[x.Variant_CHR==(\"chr\" + str(snp.chrom))]\n",
    "        x = x[x.Variant_position_start.isin(snp.LDblock.hg38_pos)]\n",
    "        x['cell'] = cell\n",
    "        df_list.append(x)\n",
    "    \n",
    "    return pd.concat(df_list)"
   ]
  },
  {
   "cell_type": "code",
   "execution_count": 49,
   "id": "694f92b1-dae4-4c6f-8510-fa7bd2786cc8",
   "metadata": {},
   "outputs": [],
   "source": [
    "x = get_tokyocis(snp)"
   ]
  },
  {
   "cell_type": "code",
   "execution_count": null,
   "id": "4ba84c80-8122-43bf-8fa7-deb72c6033f0",
   "metadata": {},
   "outputs": [],
   "source": []
  },
  {
   "cell_type": "code",
   "execution_count": null,
   "id": "b0218560-26fe-4cfd-9319-6bbd8996ef23",
   "metadata": {},
   "outputs": [],
   "source": []
  },
  {
   "cell_type": "code",
   "execution_count": null,
   "id": "47ed4bec-f31b-4aa3-ae0e-f2ed5aaf045f",
   "metadata": {},
   "outputs": [],
   "source": []
  },
  {
   "cell_type": "code",
   "execution_count": null,
   "id": "f5773618-9c93-4ef7-acb0-08d2be4a4fc7",
   "metadata": {},
   "outputs": [],
   "source": []
  },
  {
   "cell_type": "code",
   "execution_count": null,
   "id": "a8e21a54-f542-46a8-a8d9-71ad1b50608b",
   "metadata": {},
   "outputs": [],
   "source": []
  }
 ],
 "metadata": {
  "kernelspec": {
   "display_name": "Python 3",
   "language": "python",
   "name": "python3"
  },
  "language_info": {
   "codemirror_mode": {
    "name": "ipython",
    "version": 3
   },
   "file_extension": ".py",
   "mimetype": "text/x-python",
   "name": "python",
   "nbconvert_exporter": "python",
   "pygments_lexer": "ipython3",
   "version": "3.8.8"
  }
 },
 "nbformat": 4,
 "nbformat_minor": 5
}
