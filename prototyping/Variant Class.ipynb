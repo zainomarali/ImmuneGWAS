{
 "cells": [
  {
   "cell_type": "code",
   "execution_count": 11,
   "id": "7e20eaed-0ac5-468d-9a64-47f4d8c36aa3",
   "metadata": {},
   "outputs": [],
   "source": [
    "from helpers.ldlink import *\n",
    "\n",
    "class Variant():\n",
    "    def __init__(self, rsid:str, chrom:int, pos:int, EA:str, OA:str):\n",
    "        self.rsid = rsid \n",
    "        self.chrom = chrom\n",
    "        self.pos = pos\n",
    "        self.EA = EA\n",
    "        self.OA = OA\n",
    "    \n",
    "    def get_rsid(self):\n",
    "        return self.rsid\n",
    "    \n",
    "    def get_fullpos(self):\n",
    "        return self.chrom, self.pos\n",
    "    \n",
    "    def get_pos(self):\n",
    "        return self.pos\n",
    "    \n",
    "    def get_chrom(self):\n",
    "        return self.chrom\n",
    "    \n",
    "    def get_EA(self):\n",
    "        return self.EA\n",
    "    \n",
    "    def get_OA(self):\n",
    "        return self.OA\n",
    "    \n",
    "    def map_alleles(self, x, EA, OA):\n",
    "        d = {}\n",
    "        a1 = x.split(\",\")[0].split(\"=\")\n",
    "        a2 = x.split(\",\")[1].split(\"=\")\n",
    "        if a1[0]==EA:\n",
    "            d[EA]=a1[1]\n",
    "            d[OA]=a2[1]\n",
    "        elif a1[0]==OA:\n",
    "            d[OA] = a1[1]\n",
    "            d[EA] = a2[1]\n",
    "\n",
    "        return d\n",
    "    \n",
    "    def set_LDblock(self):\n",
    "        df = ldproxy(self.rsid)\n",
    "        df['EA'] = df.Correlated_Alleles.apply(lambda x:self.map_alleles(x,EA,OA)[EA])\n",
    "        df['OA'] = df.Correlated_Alleles.apply(lambda x:self.map_alleles(x,EA,OA)[OA])\n",
    "        df['chrom'] = df.Coord.apply(lambda x:int(x.split(\":\")[0][-1]))\n",
    "        df['hg38_pos'] = df.Coord.apply(lambda x:int(x.split(\":\")[1]))\n",
    "        df = df[['RS_Number', 'chrom', 'hg38_pos', 'EA','OA', 'R2', 'MAF']]\n",
    "        self.LDblock = df\n",
    "\n",
    "    \n",
    "        \n"
   ]
  },
  {
   "cell_type": "code",
   "execution_count": 10,
   "id": "78882094-9132-45c5-b223-1c61aa244679",
   "metadata": {},
   "outputs": [
    {
     "ename": "NameError",
     "evalue": "name 'df' is not defined",
     "output_type": "error",
     "traceback": [
      "\u001b[0;31m---------------------------------------------------------------------------\u001b[0m",
      "\u001b[0;31mNameError\u001b[0m                                 Traceback (most recent call last)",
      "\u001b[0;32m<ipython-input-10-00cf07b74dcd>\u001b[0m in \u001b[0;36m<module>\u001b[0;34m\u001b[0m\n\u001b[0;32m----> 1\u001b[0;31m \u001b[0mdf\u001b[0m\u001b[0;34m\u001b[0m\u001b[0;34m\u001b[0m\u001b[0m\n\u001b[0m",
      "\u001b[0;31mNameError\u001b[0m: name 'df' is not defined"
     ]
    }
   ],
   "source": [
    "df"
   ]
  },
  {
   "cell_type": "code",
   "execution_count": null,
   "id": "6fe32644-ff4b-42c8-a4a3-44aac9b702ee",
   "metadata": {},
   "outputs": [],
   "source": []
  },
  {
   "cell_type": "code",
   "execution_count": null,
   "id": "8c6e586f-8c96-42e5-86f4-d05d1beca6e6",
   "metadata": {},
   "outputs": [],
   "source": []
  },
  {
   "cell_type": "code",
   "execution_count": null,
   "id": "79b0fe42-be5d-4f67-b855-14bb1642610a",
   "metadata": {},
   "outputs": [],
   "source": []
  },
  {
   "cell_type": "code",
   "execution_count": null,
   "id": "1e7350a0-d812-47a1-a95e-08f0f89cf9c1",
   "metadata": {},
   "outputs": [],
   "source": []
  },
  {
   "cell_type": "code",
   "execution_count": null,
   "id": "90b69902-5c48-4cea-94f0-2e103965e6e3",
   "metadata": {},
   "outputs": [],
   "source": []
  },
  {
   "cell_type": "code",
   "execution_count": null,
   "id": "90469191-4868-4124-bbd6-cff42d8f3b9a",
   "metadata": {},
   "outputs": [],
   "source": []
  }
 ],
 "metadata": {
  "kernelspec": {
   "display_name": "Python 3",
   "language": "python",
   "name": "python3"
  },
  "language_info": {
   "codemirror_mode": {
    "name": "ipython",
    "version": 3
   },
   "file_extension": ".py",
   "mimetype": "text/x-python",
   "name": "python",
   "nbconvert_exporter": "python",
   "pygments_lexer": "ipython3",
   "version": "3.8.8"
  }
 },
 "nbformat": 4,
 "nbformat_minor": 5
}
