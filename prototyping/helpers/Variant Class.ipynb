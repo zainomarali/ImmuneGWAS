{
 "cells": [
  {
   "cell_type": "code",
   "execution_count": 9,
   "id": "7e20eaed-0ac5-468d-9a64-47f4d8c36aa3",
   "metadata": {},
   "outputs": [],
   "source": [
    "class Variant():\n",
    "    def __init__(self, rsid:str, chrom:int, pos:int, EA:str, OA:str):\n",
    "        self.rsid = rsid \n",
    "        self.chrom = chrom\n",
    "        self.pos = pos\n",
    "        self.EA = EA\n",
    "        self.OA = OA\n",
    "    \n",
    "    def get_rsid(self):\n",
    "        return self.rsid\n",
    "    \n",
    "    def get_fullpos(self):\n",
    "        return self.chrom, self.pos\n",
    "    \n",
    "    def get_pos(self):\n",
    "        return self.pos\n",
    "    \n",
    "    def get_chrom(self):\n",
    "        return self.chrom\n",
    "    \n",
    "    def get_EA(self):\n",
    "        return self.EA\n",
    "    \n",
    "    def get_OA(self):\n",
    "        return self.OA\n",
    "        \n"
   ]
  },
  {
   "cell_type": "code",
   "execution_count": null,
   "id": "78882094-9132-45c5-b223-1c61aa244679",
   "metadata": {},
   "outputs": [],
   "source": []
  },
  {
   "cell_type": "code",
   "execution_count": null,
   "id": "6fe32644-ff4b-42c8-a4a3-44aac9b702ee",
   "metadata": {},
   "outputs": [],
   "source": []
  },
  {
   "cell_type": "code",
   "execution_count": null,
   "id": "8c6e586f-8c96-42e5-86f4-d05d1beca6e6",
   "metadata": {},
   "outputs": [],
   "source": []
  }
 ],
 "metadata": {
  "kernelspec": {
   "display_name": "Python 3",
   "language": "python",
   "name": "python3"
  },
  "language_info": {
   "codemirror_mode": {
    "name": "ipython",
    "version": 3
   },
   "file_extension": ".py",
   "mimetype": "text/x-python",
   "name": "python",
   "nbconvert_exporter": "python",
   "pygments_lexer": "ipython3",
   "version": "3.8.8"
  }
 },
 "nbformat": 4,
 "nbformat_minor": 5
}
