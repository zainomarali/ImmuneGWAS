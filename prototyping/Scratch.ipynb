{
 "cells": [
  {
   "cell_type": "code",
   "execution_count": 26,
   "id": "8abb5379-36dc-4135-8c47-c33dfd1be1a0",
   "metadata": {},
   "outputs": [],
   "source": [
    "from helpers.getpaths import *\n",
    "from helpers.ldlink import *"
   ]
  },
  {
   "cell_type": "code",
   "execution_count": 27,
   "id": "a41442bd-58eb-4c5d-957a-5c37428b787a",
   "metadata": {},
   "outputs": [
    {
     "data": {
      "text/plain": [
       "{'eqtl_cat': '/media/cbio3/data/eQTL_DB/',\n",
       " 'dbsnp': '/media/cbio3/data/dbSNP/',\n",
       " 'eqtl_tokyo': '/media/cbio3/projects/Zain_2021/ImmuNEXT_Japan_Cell2021/eQTL_summarystats/',\n",
       " 'ge_tokyo': '/media/cbio3/projects/Zain_2021/ImmunexUT_GE/E-GEAD-397.processed/tpm/',\n",
       " 'eqtlgen_cis': '/media/cbio3/projects/Zain_2021/eQTLgen/data/2019-12-11-cis-eQTLsFDR0.05-ProbeLevel-CohortInfoRemoved-BonferroniAdded.txt',\n",
       " 'eqtlgen_trans': '/media/cbio3/projects/Zain_2021/eQTLgen/data/2018-09-04-trans-eQTLsFDR0.05-CohortInfoRemoved-BonferroniAdded.txt',\n",
       " 'tokyo_alleles': '/media/cbio3/projects/Zain_2021/ImmuNEXT_Japan_Cell2021/metadata/full_allele_defs.txt'}"
      ]
     },
     "execution_count": 27,
     "metadata": {},
     "output_type": "execute_result"
    }
   ],
   "source": [
    "paths = get_paths(\"/media/\")\n",
    "\n",
    "paths"
   ]
  },
  {
   "cell_type": "code",
   "execution_count": 28,
   "id": "fcbe8295-6b89-4916-a780-065e927abc2b",
   "metadata": {},
   "outputs": [],
   "source": [
    "# now each of these resources needs different methods for access\n",
    "\n",
    "import os\n",
    "import pandas as pd \n",
    "import numpy as np\n",
    "\n",
    "# this is waiting some kind of tabix indexing of the file \n",
    "\n",
    "def get_eqtlgen_cis(snp_list, paths=paths):\n",
    "    # need to call get_paths first to get eqtlgen_cis filepath\n",
    "    \n",
    "    # function that simply filters eQTLgen-cis to list of rsids\n",
    "    \n",
    "    x = pd.read_csv(paths['eqtlgen_cis'], sep='\\t')\n",
    "    \n",
    "    pass\n"
   ]
  },
  {
   "cell_type": "code",
   "execution_count": 59,
   "id": "c5daafba-8a21-49d0-93c0-e5435f2a6f94",
   "metadata": {},
   "outputs": [],
   "source": [
    "def get_tokyo_cis(snp_list,paths=paths):\n",
    "    \n",
    "    # loops through all the sumstats and pulls out all matches to query SNPs\n",
    "    \n",
    "    x = os.listdir(paths['eqtl_tokyo'])\n",
    "    x = [paths['eqtl_tokyo'] + i for i in x]\n",
    "    \n",
    "    df_list = []\n",
    "    \n",
    "    for file in x:\n",
    "        df = pd.read_csv(file, sep='\\t')\n",
    "        \n",
    "        df = df[df.Variant_ID.isin(snp_list)]\n",
    "        \n",
    "        cell = file.split(\"/\")[-1].split(\"_cond\")[0]\n",
    "        \n",
    "        df['cell'] = cell\n",
    "        \n",
    "        df_list.append(df)\n",
    "    return pd.concat(df_list)"
   ]
  },
  {
   "cell_type": "code",
   "execution_count": null,
   "id": "a91218d4-5ba9-485d-be66-72069c8516b4",
   "metadata": {},
   "outputs": [],
   "source": []
  },
  {
   "cell_type": "code",
   "execution_count": null,
   "id": "9beb0b3b-4080-49df-8cf0-796715032aaa",
   "metadata": {},
   "outputs": [],
   "source": []
  },
  {
   "cell_type": "code",
   "execution_count": null,
   "id": "544c0571-4d5a-4498-b68c-02c67d6efc39",
   "metadata": {},
   "outputs": [],
   "source": []
  },
  {
   "cell_type": "code",
   "execution_count": null,
   "id": "101319fa-785a-4641-97e9-5b9a511d320b",
   "metadata": {},
   "outputs": [],
   "source": []
  },
  {
   "cell_type": "code",
   "execution_count": null,
   "id": "a184c59e-f4f1-4c08-8bd9-4101ad414643",
   "metadata": {},
   "outputs": [],
   "source": []
  },
  {
   "cell_type": "code",
   "execution_count": null,
   "id": "e33ba966-232f-4d0e-84b2-4a070e251b33",
   "metadata": {},
   "outputs": [],
   "source": []
  },
  {
   "cell_type": "code",
   "execution_count": null,
   "id": "14cb9d49-a310-44fb-afe5-5e5546f63cb1",
   "metadata": {},
   "outputs": [],
   "source": []
  }
 ],
 "metadata": {
  "kernelspec": {
   "display_name": "Python 3",
   "language": "python",
   "name": "python3"
  },
  "language_info": {
   "codemirror_mode": {
    "name": "ipython",
    "version": 3
   },
   "file_extension": ".py",
   "mimetype": "text/x-python",
   "name": "python",
   "nbconvert_exporter": "python",
   "pygments_lexer": "ipython3",
   "version": "3.8.8"
  }
 },
 "nbformat": 4,
 "nbformat_minor": 5
}
