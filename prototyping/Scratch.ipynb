{
 "cells": [
  {
   "cell_type": "code",
   "execution_count": 2,
   "id": "8abb5379-36dc-4135-8c47-c33dfd1be1a0",
   "metadata": {},
   "outputs": [],
   "source": [
    "from helpers.getpaths import *\n",
    "from helpers.ldlink import *"
   ]
  },
  {
   "cell_type": "code",
   "execution_count": 4,
   "id": "a41442bd-58eb-4c5d-957a-5c37428b787a",
   "metadata": {},
   "outputs": [
    {
     "data": {
      "text/plain": [
       "{'eqtl_cat': '/media/cbio3/data/eQTL_DB/',\n",
       " 'dbsnp': '/media/cbio3/data/dbSNP/',\n",
       " 'eqtl_tokyo': '/media/cbio3/projects/Zain_2021/ImmuNEXT_Japan_Cell2021/eQTL_summarystats/',\n",
       " 'ge_tokyo': '/media/cbio3/projects/Zain_2021/ImmunexUT_GE/E-GEAD-397.processed/tpm/',\n",
       " 'eqtlgen_cis': '/media/cbio3/projects/Zain_2021/eQTLgen/data/2019-12-11-cis-eQTLsFDR0.05-ProbeLevel-CohortInfoRemoved-BonferroniAdded.txt',\n",
       " 'eqtlgen_trans': '/media/cbio3/projects/Zain_2021/eQTLgen/data/2018-09-04-trans-eQTLsFDR0.05-CohortInfoRemoved-BonferroniAdded.txt'}"
      ]
     },
     "execution_count": 4,
     "metadata": {},
     "output_type": "execute_result"
    }
   ],
   "source": [
    "paths = get_paths(\"/media/\")\n",
    "\n",
    "paths"
   ]
  },
  {
   "cell_type": "code",
   "execution_count": 5,
   "id": "fcbe8295-6b89-4916-a780-065e927abc2b",
   "metadata": {},
   "outputs": [
    {
     "data": {
      "text/plain": [
       "['CD16p_Mono_tpm_HC.txt',\n",
       " 'CL_Mono_tpm_HC.txt',\n",
       " 'CM_CD8_tpm_HC.txt',\n",
       " 'DN_B_tpm_HC.txt',\n",
       " 'EM_CD8_tpm_HC.txt',\n",
       " 'Fr_III_T_tpm_HC.txt',\n",
       " 'Fr_II_eTreg_tpm_HC.txt',\n",
       " 'Fr_I_nTreg_tpm_HC.txt',\n",
       " 'Int_Mono_tpm_HC.txt',\n",
       " 'LDG_tpm_HC.txt',\n",
       " 'Mem_CD4_tpm_HC.txt',\n",
       " 'Mem_CD8_tpm_HC.txt',\n",
       " 'NC_Mono_tpm_HC.txt',\n",
       " 'NK_tpm_HC.txt',\n",
       " 'Naive_B_tpm_HC.txt',\n",
       " 'Naive_CD4_tpm_HC.txt',\n",
       " 'Naive_CD8_tpm_HC.txt',\n",
       " 'Neu_tpm_HC.txt',\n",
       " 'Plasmablast_tpm_HC.txt',\n",
       " 'SM_B_tpm_HC.txt',\n",
       " 'TEMRA_CD8_tpm_HC.txt',\n",
       " 'Tfh_tpm_HC.txt',\n",
       " 'Th17_tpm_HC.txt',\n",
       " 'Th1_tpm_HC.txt',\n",
       " 'Th2_tpm_HC.txt',\n",
       " 'USM_B_tpm_HC.txt',\n",
       " 'mDC_tpm_HC.txt',\n",
       " 'pDC_tpm_HC.txt']"
      ]
     },
     "execution_count": 5,
     "metadata": {},
     "output_type": "execute_result"
    }
   ],
   "source": [
    "import os\n",
    "\n",
    "os.listdir(paths['ge_tokyo'])"
   ]
  },
  {
   "cell_type": "code",
   "execution_count": null,
   "id": "a91218d4-5ba9-485d-be66-72069c8516b4",
   "metadata": {},
   "outputs": [],
   "source": []
  }
 ],
 "metadata": {
  "kernelspec": {
   "display_name": "Python 3",
   "language": "python",
   "name": "python3"
  },
  "language_info": {
   "codemirror_mode": {
    "name": "ipython",
    "version": 3
   },
   "file_extension": ".py",
   "mimetype": "text/x-python",
   "name": "python",
   "nbconvert_exporter": "python",
   "pygments_lexer": "ipython3",
   "version": "3.8.8"
  }
 },
 "nbformat": 4,
 "nbformat_minor": 5
}
